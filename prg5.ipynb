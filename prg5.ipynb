{
 "cells": [
  {
   "cell_type": "code",
   "execution_count": 9,
   "id": "bc95ce34",
   "metadata": {},
   "outputs": [
    {
     "name": "stdout",
     "output_type": "stream",
     "text": [
      "---main array---\n",
      "[ 10  20  50  40  30  60  70  80  90 100]\n",
      "\n",
      "---Reshaped arryay---\n",
      "[[ 10  20  50  40  30]\n",
      " [ 60  70  80  90 100]]\n",
      "\n",
      "---stacked array---\n",
      "[[ 10  20  50  40  30]\n",
      " [ 60  70  80  90 100]\n",
      " [110 120 130 140 150]]\n",
      "\n",
      "---searching element from the array---\n",
      "\n",
      " Enter element to search: 10\n",
      "index of searched element is = (array([0]),)\n",
      "\n",
      "---sorting array elements in ascending order\n",
      "\n",
      " Sorted array:  [ 10  20  30  40  50  60  70  80  90 100]\n",
      "\n",
      "---splitting array---\n",
      "Enter splitting value: 6\n",
      "[array([10, 20]), array([50, 40]), array([30, 60]), array([70, 80]), array([90]), array([100])]\n"
     ]
    },
    {
     "data": {
      "image/png": "[encoded data removed]",
      "text/plain": [
       "<Figure size 432x288 with 3 Axes>"
      ]
     },
     "metadata": {
      "needs_background": "light"
     },
     "output_type": "display_data"
    }
   ],
   "source": [
    "import numpy as np\n",
    "import matplotlib.pyplot as plt\n",
    "print(\"---main array---\")\n",
    "arr=np.array([10,20,50,40,30,60,70,80,90,100])\n",
    "print(arr)\n",
    "\n",
    "#A\n",
    "#1 array manipulation: reshaping and stacking\n",
    "reshaped_arr=arr.reshape(2,5)\n",
    "print(\"\\n---Reshaped array---\")\n",
    "print(reshaped_arr)\n",
    "\n",
    "# stacking two arrays vertically\n",
    "arr2=np.array([110,120,130,140,150])\n",
    "stacked_arr=np.vstack((reshaped_arr,arr2))\n",
    "print(\"\\n---stacked array---\")\n",
    "print(stacked_arr)\n",
    "\n",
    "#2 searching: find element in the array\n",
    "print(\"\\n---searching element from the array---\")\n",
    "ele=int(input(\"\\n Enter element to search: \"))\n",
    "i=np.where(arr==ele)\n",
    "print(\"index of searched element is = {}\".format(i))\n",
    "\n",
    "#3 sorting: sort the array in ascending order\n",
    "print(\"\\n---sorting array elements in ascending order\")\n",
    "sorted_arr=np.sort(arr)\n",
    "print(\"\\n Sorted array: \",sorted_arr)\n",
    "\n",
    "#4 splitting: split the array into 2 sub array\n",
    "print(\"\\n---splitting array---\")\n",
    "s=int(input(\"Enter splitting value: \"))\n",
    "split_arr=np.array_split(arr,s)\n",
    "print(split_arr)\n",
    "\n",
    "#B\n",
    "A=np.array([[1,2,3],[4,5,6]])\n",
    "B=np.array([[10,20,30]])\n",
    "C=A+B\n",
    "plt.subplot(1,3,1)\n",
    "plt.imshow(A,cmap='Blues',interpolation='nearest')\n",
    "plt.title('Array A')\n",
    "\n",
    "plt.subplot(1,3,2)\n",
    "plt.imshow(B.reshape(1,-1),cmap='Blues',interpolation='none')\n",
    "plt.title('Array B')\n",
    "\n",
    "plt.subplot(1,3,3)\n",
    "plt.imshow(C,cmap='Blues',interpolation='none')\n",
    "plt.title('Array C')\n",
    "plt.tight_layout()\n",
    "plt.show()"
   ]
  }
 ],
 "metadata": {
  "kernelspec": {
   "display_name": "Python 3 (ipykernel)",
   "language": "python",
   "name": "python3"
  },
  "language_info": {
   "codemirror_mode": {
    "name": "ipython",
    "version": 3
   },
   "file_extension": ".py",
   "mimetype": "text/x-python",
   "name": "python",
   "nbconvert_exporter": "python",
   "pygments_lexer": "ipython3",
   "version": "3.9.7"
  }
 },
 "nbformat": 4,
 "nbformat_minor": 5
}

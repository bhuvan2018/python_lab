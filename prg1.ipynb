{
 "cells": [
  {
   "cell_type": "code",
   "execution_count": 1,
   "id": "38e85ef3-59ed-4a80-87ee-fc76ee31d5c3",
   "metadata": {},
   "outputs": [
    {
     "name": "stdout",
     "output_type": "stream",
     "text": [
      "\n",
      " Array of numbers:  [10, 20, 30]\n",
      "Element found at the index 1\n"
     ]
    }
   ],
   "source": [
    "numlist=[]\n",
    "while True:\n",
    "    try:\n",
    "        n=int(input(\"Enter list size: \"))\n",
    "        if n>0:\n",
    "            break\n",
    "        else:\n",
    "            print(\"The list size must be positive\")\n",
    "    except ValueError:\n",
    "        print(\"Invalid\")\n",
    "for i in range(n):\n",
    "    while True:\n",
    "        try:\n",
    "            item=int(input(f\"Enter the number at index: {i}: \"))\n",
    "            numlist.append(item)\n",
    "            break\n",
    "        except ValueError:\n",
    "            print(\"Please enter valid integer\")\n",
    "print(\"\\n Array of numbers: \",numlist)\n",
    "while True:\n",
    "    try:\n",
    "        key=int(input(\"Enter key element to search: \"))\n",
    "        break\n",
    "    except ValueError:\n",
    "        print(\"Please enter valid integer for the key\")\n",
    "def search(numlist,key):\n",
    "    for j in range(len(numlist)):\n",
    "        if numlist[j]==key:\n",
    "            return j\n",
    "    return -1\n",
    "loc=search(numlist,key)\n",
    "if loc==-1:\n",
    "    print(\"Element not found\")\n",
    "else:\n",
    "    print(f\"Element found at the index {loc}\")"
   ]
  },
  {
   "cell_type": "code",
   "execution_count": null,
   "id": "34da798e-a11a-4d64-8d9c-267ebf3231a2",
   "metadata": {},
   "outputs": [],
   "source": []
  }
 ],
 "metadata": {
  "kernelspec": {
   "display_name": "Python 3",
   "language": "python",
   "name": "python3"
  },
  "language_info": {
   "codemirror_mode": {
    "name": "ipython",
    "version": 3
   },
   "file_extension": ".py",
   "mimetype": "text/x-python",
   "name": "python",
   "nbconvert_exporter": "python",
   "pygments_lexer": "ipython3",
   "version": "3.12.1"
  }
 },
 "nbformat": 4,
 "nbformat_minor": 5
}

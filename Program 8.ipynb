{
 "cells": [
  {
   "cell_type": "code",
   "execution_count": null,
   "id": "74833119",
   "metadata": {
    "id": "74833119",
    "outputId": "7b9be8af-80c3-4909-9136-8e4acb87495c"
   },
   "outputs": [
    {
     "name": "stdout",
     "output_type": "stream",
     "text": [
      "Value of A with 5 random numbers\n",
      " [[0.5488135 ]\n",
      " [0.71518937]\n",
      " [0.60276338]\n",
      " [0.54488318]\n",
      " [0.4236548 ]]\n",
      "\n",
      "Value of X input features\n",
      " [[1.09762701]\n",
      " [1.43037873]\n",
      " [1.20552675]\n",
      " [1.08976637]\n",
      " [0.8473096 ]]\n",
      "\n",
      "Value of B with 5 random noise\n",
      " [[-0.84272405]\n",
      " [ 1.96992445]\n",
      " [ 1.26611853]\n",
      " [-0.50587654]\n",
      " [ 2.54520078]]\n",
      "\n",
      "Value of y output variables\n",
      " [[ 6.45015697]\n",
      " [10.26106065]\n",
      " [ 8.88269879]\n",
      " [ 6.76342256]\n",
      " [ 9.08712957]]\n",
      "\n",
      "Intercept: [4.90426142]\n",
      "\n",
      "Coefficient: [[2.9843643]]\n"
     ]
    },
    {
     "data": {
      "image/png": "[encoded data removed]",
      "text/plain": [
       "<Figure size 432x288 with 1 Axes>"
      ]
     },
     "metadata": {
      "needs_background": "light"
     },
     "output_type": "display_data"
    }
   ],
   "source": [
    "#8.Write a Python program to demonstrate the generation of linear regression models.\n",
    "\n",
    "import numpy as np\n",
    "import matplotlib.pyplot as plt\n",
    "from sklearn.linear_model import LinearRegression\n",
    "np.random.seed(0)\n",
    "\n",
    "A=np.random.rand(5, 1)\n",
    "print(\"Value of A with 5 random numbers\\n\",A)\n",
    "\n",
    "X = 2 * A\n",
    "print(\"\\nValue of X input features\\n\",X)\n",
    "\n",
    "B=np.random.randn(5, 1)\n",
    "print(\"\\nValue of B with 5 random noise\\n\",B)\n",
    "\n",
    "y = 4 + 3 * X + B\n",
    "print(\"\\nValue of y output variables\\n\",y)\n",
    "\n",
    "model = LinearRegression()\n",
    "\n",
    "model.fit(X, y)\n",
    "\n",
    "y_pred = model.predict(X)\n",
    "\n",
    "print(f\"\\nIntercept: {model.intercept_}\")\n",
    "print(f\"\\nCoefficient: {model.coef_}\")\n",
    "\n",
    "plt.scatter(X, y, color='blue', label='Data points')\n",
    "plt.plot(X, y_pred, color='red', label='Regression line')\n",
    "plt.xlabel('X (Input Feature)')\n",
    "plt.ylabel('y (Output Variable)')\n",
    "plt.legend()\n",
    "plt.title('Linear Regression Example')\n",
    "plt.show()"
   ]
  },
  {
   "cell_type": "code",
   "execution_count": null,
   "id": "88fada87",
   "metadata": {
    "id": "88fada87"
   },
   "outputs": [],
   "source": []
  }
 ],
 "metadata": {
  "colab": {
   "provenance": []
  },
  "kernelspec": {
   "display_name": "Python 3 (ipykernel)",
   "language": "python",
   "name": "python3"
  },
  "language_info": {
   "codemirror_mode": {
    "name": "ipython",
    "version": 3
   },
   "file_extension": ".py",
   "mimetype": "text/x-python",
   "name": "python",
   "nbconvert_exporter": "python",
   "pygments_lexer": "ipython3",
   "version": "3.9.7"
  }
 },
 "nbformat": 4,
 "nbformat_minor": 5
}

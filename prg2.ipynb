{
 "cells": [
  {
   "cell_type": "code",
   "execution_count": null,
   "id": "9d43819f-9811-483f-8314-42c78a2a03fc",
   "metadata": {},
   "outputs": [
    {
     "name": "stdout",
     "output_type": "stream",
     "text": [
      "Enter an element:  10\n"
     ]
    },
    {
     "name": "stdout",
     "output_type": "stream",
     "text": [
      "[10]\n"
     ]
    },
    {
     "name": "stdout",
     "output_type": "stream",
     "text": [
      "Do you want to insert more element ? (0/1) 1\n",
      "Enter an element:  5\n"
     ]
    },
    {
     "name": "stdout",
     "output_type": "stream",
     "text": [
      "[5, 10]\n"
     ]
    },
    {
     "name": "stdout",
     "output_type": "stream",
     "text": [
      "Do you want to insert more element ? (0/1) 1\n",
      "Enter an element:  8\n"
     ]
    },
    {
     "name": "stdout",
     "output_type": "stream",
     "text": [
      "[5, 8, 10]\n"
     ]
    },
    {
     "name": "stdout",
     "output_type": "stream",
     "text": [
      "Do you want to insert more element ? (0/1) 1\n",
      "Enter an element:  -8\n"
     ]
    },
    {
     "name": "stdout",
     "output_type": "stream",
     "text": [
      "[-8, 5, 8, 10]\n"
     ]
    },
    {
     "name": "stdout",
     "output_type": "stream",
     "text": [
      "Do you want to insert more element ? (0/1) 1\n",
      "Enter an element:  0\n"
     ]
    },
    {
     "name": "stdout",
     "output_type": "stream",
     "text": [
      "[-8, 0, 5, 8, 10]\n"
     ]
    },
    {
     "name": "stdout",
     "output_type": "stream",
     "text": [
      "Do you want to insert more element ? (0/1) 0\n"
     ]
    }
   ],
   "source": [
    "li=[]\n",
    "flag=1\n",
    "while(flag):\n",
    "    ele=int(input(\"Enter an element: \"))\n",
    "    j=len(li)-1\n",
    "    while(j>=0):\n",
    "        if(ele>li[j]):\n",
    "            break\n",
    "        j=j-1\n",
    "    if(len(li)==0 or j==len(li)-1):\n",
    "        li.append(ele)\n",
    "    else:\n",
    "        li.insert(j+1,ele)\n",
    "    print(li)\n",
    "    flag=int(input(\"Do you want to insert any more element ? (0/1)\"))"
   ]
  }
 ],
 "metadata": {
  "kernelspec": {
   "display_name": "Python 3 (ipykernel)",
   "language": "python",
   "name": "python3"
  },
  "language_info": {
   "codemirror_mode": {
    "name": "ipython",
    "version": 3
   },
   "file_extension": ".py",
   "mimetype": "text/x-python",
   "name": "python",
   "nbconvert_exporter": "python",
   "pygments_lexer": "ipython3",
   "version": "3.12.7"
  }
 },
 "nbformat": 4,
 "nbformat_minor": 5
}

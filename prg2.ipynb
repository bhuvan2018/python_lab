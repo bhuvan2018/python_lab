{
 "cells": [
  {
   "cell_type": "code",
   "execution_count": 2,
   "id": "9d43819f-9811-483f-8314-42c78a2a03fc",
   "metadata": {},
   "outputs": [
    {
     "name": "stdout",
     "output_type": "stream",
     "text": [
      "[10]\n",
      "[2, 10]\n",
      "[-8, 2, 10]\n",
      "[-8, 0, 2, 10]\n",
      "[-8, 0, 0, 2, 10]\n"
     ]
    }
   ],
   "source": [
    "li=[]\n",
    "flag=1\n",
    "while(flag):\n",
    "    ele=int(input(\"Enter an element: \"))\n",
    "    j=len(li)-1\n",
    "    while(j>=0):\n",
    "        if(ele>li[j]):\n",
    "            break\n",
    "        j=j-1\n",
    "    if(len(li)==0 or j==len(li)-1):\n",
    "        li.append(ele)\n",
    "    else:\n",
    "        li.insert(j+1,ele)\n",
    "    print(li)\n",
    "    flag=int(input(\"Do you want to insert any more element ? (0/1)\"))"
   ]
  }
 ],
 "metadata": {
  "kernelspec": {
   "display_name": "Python 3",
   "language": "python",
   "name": "python3"
  },
  "language_info": {
   "codemirror_mode": {
    "name": "ipython",
    "version": 3
   },
   "file_extension": ".py",
   "mimetype": "text/x-python",
   "name": "python",
   "nbconvert_exporter": "python",
   "pygments_lexer": "ipython3",
   "version": "3.12.1"
  }
 },
 "nbformat": 4,
 "nbformat_minor": 5
}

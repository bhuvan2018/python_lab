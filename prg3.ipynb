{
 "cells": [
  {
   "cell_type": "code",
   "execution_count": 1,
   "id": "243ad4bb-ee6b-4786-911c-f816dbbb39d0",
   "metadata": {},
   "outputs": [
    {
     "name": "stdout",
     "output_type": "stream",
     "text": [
      "vehicle: Toyota, Corolla\n",
      "vehicle make: Toyota, Model: Corolla\n",
      "vehicle make: Honda, Model: Civic\n",
      "vehicle: Tesla, Model 3, 4\n",
      "vehicle make: Tesla, Model: Model 3, Doors: 4\n"
     ]
    }
   ],
   "source": [
    "class Vehicle:\n",
    "    def __init__(self,make,model):\n",
    "        self.__make=make\n",
    "        self.__model=model\n",
    "    def get_make(self):\n",
    "        return self.__make\n",
    "    def set_make(self,make):\n",
    "        self.__make=make\n",
    "    def get_model(self):\n",
    "        return self.__model\n",
    "    def set_model(self,model):\n",
    "        self.__model=model\n",
    "    def vehicle_info(self,details=False):\n",
    "        if details:\n",
    "            return f\"vehicle make: {self.__make}, Model: {self.__model}\"\n",
    "        return f\"vehicle: {self.__make}, {self.__model}\"\n",
    "class Car(Vehicle):\n",
    "    def __init__(self,make,model,doors):\n",
    "        super().__init__(make,model)\n",
    "        self.doors=doors\n",
    "    def vehicle_info(self,details=False):\n",
    "        basic_info=super().vehicle_info(details)\n",
    "        if details:\n",
    "            return f\"{basic_info}, Doors: {self.doors}\"\n",
    "        return f\"{basic_info}, {self.doors}\"\n",
    "vehicle=Vehicle(\"Toyota\",\"Corolla\")\n",
    "print(vehicle.vehicle_info())\n",
    "print(vehicle.vehicle_info(details=True))\n",
    "vehicle.set_make(\"Honda\")\n",
    "vehicle.set_model(\"Civic\")\n",
    "print(vehicle.vehicle_info(details=True))\n",
    "car=Car(\"Tesla\",\"Model 3\",4)\n",
    "print(car.vehicle_info())\n",
    "print(car.vehicle_info(details=True))"
   ]
  },
  {
   "cell_type": "code",
   "execution_count": null,
   "id": "70ceba0e-3a72-4bb6-ab7c-fe1cd060f102",
   "metadata": {},
   "outputs": [],
   "source": []
  }
 ],
 "metadata": {
  "kernelspec": {
   "display_name": "Python 3",
   "language": "python",
   "name": "python3"
  },
  "language_info": {
   "codemirror_mode": {
    "name": "ipython",
    "version": 3
   },
   "file_extension": ".py",
   "mimetype": "text/x-python",
   "name": "python",
   "nbconvert_exporter": "python",
   "pygments_lexer": "ipython3",
   "version": "3.12.1"
  }
 },
 "nbformat": 4,
 "nbformat_minor": 5
}
